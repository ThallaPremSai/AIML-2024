{
  "nbformat": 4,
  "nbformat_minor": 0,
  "metadata": {
    "colab": {
      "provenance": []
    },
    "kernelspec": {
      "name": "python3",
      "display_name": "Python 3"
    },
    "language_info": {
      "name": "python"
    }
  },
  "cells": [
    {
      "cell_type": "code",
      "execution_count": null,
      "metadata": {
        "id": "FBubBgzmXFLT"
      },
      "outputs": [],
      "source": [
        "import numpy as np\n",
        "import matplotlib.pyplot as plt\n",
        "from mpl_toolkits.mplot3d import Axes3D\n",
        "from scipy.stats import multivariate_normal\n",
        "%matplotlib inline"
      ]
    },
    {
      "cell_type": "code",
      "source": [
        "covariance = np.array([[0.14, -0.3, 0.0, 0.2],\n",
        "                       [-0.3, 1.16, 0.2, -0.8],\n",
        "                       [0.0, 0.2, 1.0, 1.0],\n",
        "                       [0.2, -0.8, 1.0, 2.0]])\n",
        "precision = np.linalg.inv(covariance)\n",
        "print(precision)"
      ],
      "metadata": {
        "id": "2LHhnA7cX34S"
      },
      "execution_count": null,
      "outputs": []
    },
    {
      "cell_type": "code",
      "source": [
        "def generate_pair():\n",
        "    return np.random.multivariate_normal([0.8, 0.8], [[0.1, -0.1],[-0.1, 0.12]])"
      ],
      "metadata": {
        "id": "Rf9tJTZxYjye"
      },
      "execution_count": null,
      "outputs": []
    },
    {
      "cell_type": "code",
      "source": [
        "mu_t = generate_pair()\n",
        "print(mu_t)"
      ],
      "metadata": {
        "id": "mtSiS5szYsQy"
      },
      "execution_count": null,
      "outputs": []
    },
    {
      "cell_type": "code",
      "source": [
        "x, y = np.mgrid[-0.25:2.25:.01, -1:2:.01]\n",
        "pos = np.empty(x.shape + (2,))\n",
        "pos[:, :, 0] = x\n",
        "pos[:, :, 1] = y\n",
        "mu_p = [0.8, 0.8]\n",
        "cov_p = [[0.1, -0.1], [-0.1, 0.12]]\n",
        "z = multivariate_normal(mu_p, cov_p).pdf(pos)\n",
        "\n",
        "fig = plt.figure(figsize=(10, 10), dpi=300)\n",
        "ax = fig.add_subplot(projection='3d')\n",
        "ax.plot_surface(x, y, z, cmap=plt.cm.viridis)\n",
        "plt.xlabel('$x_1$')\n",
        "plt.ylabel('$x_2$')\n",
        "ax.set_zlabel('$p(x_1, x_2 | x_3=0, x_4=0)$')\n",
        "plt.savefig('cond_mvg.png', bbox_inches='tight', dpi=300)\n",
        "plt.show()"
      ],
      "metadata": {
        "id": "zZ4jfwqqZX1d"
      },
      "execution_count": null,
      "outputs": []
    },
    {
      "cell_type": "code",
      "source": [
        "N=1000"
      ],
      "metadata": {
        "id": "hb4yCMO4cqS9"
      },
      "execution_count": null,
      "outputs": []
    },
    {
      "cell_type": "code",
      "source": [
        "import numpy as np\n",
        "data = np.random.multivariate_normal([0.28, 1.18], [[2.0, 0.8], [0.8, 4.0]], N)\n",
        "data\n",
        "np.savetxt('data.txt',data)"
      ],
      "metadata": {
        "id": "wiw8HBdyctOD"
      },
      "execution_count": null,
      "outputs": []
    },
    {
      "cell_type": "code",
      "source": [
        "# np.savetxt('data.txt', data)\n",
        "import pandas as pd\n",
        "data = pd.read_table('data.txt')\n",
        "data = np.loadtxt('data.txt')\n",
        "data"
      ],
      "metadata": {
        "id": "bDPCg0xWdFL6"
      },
      "execution_count": null,
      "outputs": []
    },
    {
      "cell_type": "code",
      "source": [
        "mu_ml = data.mean(axis=0)\n",
        "x = data - mu_ml\n",
        "cov_ml = np.dot(x.T, x) / N #given the eqn for ML\n",
        "cov_ml_unbiased = np.dot(x.T, x) / (N - 1)\n",
        "print(mu_ml)\n",
        "print(cov_ml)\n",
        "print(cov_ml_unbiased)"
      ],
      "metadata": {
        "id": "1TJ1Qd1OdM8Y"
      },
      "execution_count": null,
      "outputs": []
    },
    {
      "cell_type": "code",
      "source": [
        "def seq_ml(data):\n",
        "    mus = [np.array([[0], [0]])]\n",
        "    for i in range(N):\n",
        "        x_n = data[i].reshape(2, 1)\n",
        "        mu_n = mus[-1] + (x_n-mus[-1]) / (i + 1)\n",
        "        mus.append(mu_n)\n",
        "    return mus\n"
      ],
      "metadata": {
        "id": "gZu88XHcdocQ"
      },
      "execution_count": null,
      "outputs": []
    },
    {
      "cell_type": "code",
      "source": [
        "mus_ml = seq_ml(data)\n",
        "print(mus_ml[-1])"
      ],
      "metadata": {
        "id": "TwS-QtWtduV7"
      },
      "execution_count": null,
      "outputs": []
    },
    {
      "cell_type": "code",
      "source": [
        "mu_p = np.array([[0.28], [1.18]])\n",
        "cov_p = np.array([[0.1, -0.1], [-0.1, 0.12]])\n",
        "cov_t = np.array([[2.0, 0.8], [0.8, 4.0]])\n"
      ],
      "metadata": {
        "id": "jVeYHTm4fqSG"
      },
      "execution_count": null,
      "outputs": []
    },
    {
      "cell_type": "code",
      "source": [
        "def seq_map(data, mu_p, cov_p, cov_t):\n",
        "    mus, covs = [mu_p], [cov_p]\n",
        "    for x in data:\n",
        "        x_n = x.reshape(2, 1)\n",
        "        cov_n = np.linalg.inv(np.linalg.inv(covs[-1]) + np.linalg.inv(cov_t))\n",
        "        mu_n = cov_n.dot(np.linalg.inv(cov_t).dot(x_n) + np.linalg.inv(covs[-1]).dot(mus[-1]))\n",
        "        mus.append(mu_n)\n",
        "        covs.append(cov_n)\n",
        "\n",
        "    return mus, covs"
      ],
      "metadata": {
        "id": "8PIsEusmfvmB"
      },
      "execution_count": null,
      "outputs": []
    },
    {
      "cell_type": "code",
      "source": [
        "mus_map, covs_map = seq_map(data, mu_p, cov_p, cov_t)\n",
        "print(mus_map[-1])"
      ],
      "metadata": {
        "id": "e4wTzLddfzqV"
      },
      "execution_count": null,
      "outputs": []
    },
    {
      "cell_type": "code",
      "source": [
        "X = np.arange(N+1)\n",
        "mus1_ml = [mu[0] for mu in mus_ml]\n",
        "mus2_ml = [mu[1] for mu in mus_ml]\n",
        "mus1_map = [mu[0] for mu in mus_map]\n",
        "mus2_map = [mu[1] for mu in mus_map]\n",
        "mus1_t = [0.28] * (N+1)\n",
        "mus2_t = [1.18] * (N+1)\n",
        "plt.style.use('ggplot')\n",
        "plt.plot(X, mus1_ml, label='ML $\\mu_1$')\n",
        "plt.plot(X, mus2_ml, label='ML $\\mu_2$')\n",
        "plt.plot(X, mus1_map, label='MAP $\\mu_1$')\n",
        "plt.plot(X, mus2_map, label='MAP $\\mu_2$')\n",
        "plt.plot(X, mus1_t, label='True $\\mu_1$')\n",
        "plt.plot(X, mus2_t, label='True $\\mu_2$')\n",
        "plt.xlabel('$n$-th data point')\n",
        "plt.ylabel('$\\mu$')\n",
        "plt.legend(loc=4)\n",
        "plt.savefig('seq_learning.png', bbox_inches='tight', dpi=300)\n",
        "plt.show()"
      ],
      "metadata": {
        "id": "wkqKtq-LgEwP"
      },
      "execution_count": null,
      "outputs": []
    },
    {
      "cell_type": "code",
      "source": [
        "def p_xk(x, alpha, beta):\n",
        "    return beta / (np.pi * (beta**2 + (x-alpha)**2))"
      ],
      "metadata": {
        "id": "NUHG07fbhkfN"
      },
      "execution_count": null,
      "outputs": []
    },
    {
      "cell_type": "code",
      "source": [
        "x = np.linspace(-4, 8, num=1000)\n",
        "probs = p_xk(x, 2, 1)\n",
        "plt.plot(x, probs)\n",
        "plt.xlabel('$x_k$')\n",
        "plt.ylabel(r'$p(x_k | \\alpha, \\beta)$')\n",
        "plt.savefig('prob_xk.png', bbox_inches='tight', dpi=300)\n",
        "plt.show()"
      ],
      "metadata": {
        "id": "Ht5Xoguzhpbl"
      },
      "execution_count": null,
      "outputs": []
    },
    {
      "cell_type": "code",
      "source": [
        "def p_a(x, alpha, beta):\n",
        "    return np.product(beta / (np.pi * beta**2 + (x-alpha)**2))"
      ],
      "metadata": {
        "id": "dzzlE4XvioAN"
      },
      "execution_count": null,
      "outputs": []
    },
    {
      "cell_type": "code",
      "source": [
        "D = np.array([4.8, -2.7, 2.2, 1.1, 0.8, -7.3])\n",
        "alphas = np.linspace(-5, 5, num=1000)\n",
        "beta = 1\n",
        "likelihoods = [p_a(D, alpha, beta) for alpha in alphas]\n",
        "plt.plot(alphas, likelihoods)\n",
        "plt.xlabel(r'$\\alpha$')\n",
        "plt.ylabel(r'$p(a | D, \\beta)$')\n",
        "plt.savefig('prob_a.png', bbox_inches='tight', dpi=300)\n",
        "plt.show()"
      ],
      "metadata": {
        "id": "mKEgIE6KitNa"
      },
      "execution_count": null,
      "outputs": []
    },
    {
      "cell_type": "code",
      "source": [
        "print(D.mean())\n",
        "print(alphas[np.argmax(likelihoods)])"
      ],
      "metadata": {
        "id": "_-IqnecQiz5B"
      },
      "execution_count": null,
      "outputs": []
    },
    {
      "cell_type": "code",
      "source": [
        "alpha_t = np.random.uniform(0, 10)\n",
        "beta_t = np.random.uniform(1, 2)\n",
        "print(alpha_t, beta_t)"
      ],
      "metadata": {
        "id": "mnno5PD_i7qT"
      },
      "execution_count": null,
      "outputs": []
    },
    {
      "cell_type": "code",
      "source": [
        "def location(angle, alpha, beta):\n",
        "    return beta * np.tan(angle) + alpha\n",
        "\n",
        "N = 200\n",
        "angles = np.random.uniform(-np.pi/2, np.pi/2, N)\n",
        "locations = np.array([location(angle, alpha_t, beta_t) for angle in angles])"
      ],
      "metadata": {
        "id": "wBc7PIFzjEaX"
      },
      "execution_count": null,
      "outputs": []
    },
    {
      "cell_type": "code",
      "source": [
        "mus = [locations[:i + 1].mean() for i in range(N)]\n",
        "mean = [locations.mean()] * (N)\n",
        "X = np.arange(1, N + 1)\n",
        "plt.style.use('ggplot')\n",
        "plt.plot(X, mus, label='Mean over time')\n",
        "plt.plot(X, mean, label='True mean')\n",
        "plt.xlabel('$n$-th data point')\n",
        "plt.ylabel(r'$\\alpha$ (km)')\n",
        "plt.legend()\n",
        "plt.savefig('mean_x.png', bbox_inches='tight', dpi=300)\n",
        "plt.show()"
      ],
      "metadata": {
        "id": "12k5_EbWjJEn"
      },
      "execution_count": null,
      "outputs": []
    },
    {
      "cell_type": "code",
      "source": [
        "print(locations.mean())"
      ],
      "metadata": {
        "id": "lKkAr5SQjNUJ"
      },
      "execution_count": null,
      "outputs": []
    },
    {
      "cell_type": "code",
      "source": [
        "plt.style.use('classic')\n",
        "ks = [1, 2, 3, 20]\n",
        "alphas, betas = np.mgrid[-10:10:0.04, 0:5:0.04]\n",
        "# alphas, betas = np.meshgrid(np.linspace(-10, 10, num=500), np.linspace(0, 5, num=250))\n",
        "for k in ks:\n",
        "    x = locations[:k]\n",
        "    # We only have to calculate the constant once\n",
        "    likelihood = k * np.log(betas/np.pi)\n",
        "    for loc in x:\n",
        "        likelihood -= np.log(betas**2 + (loc - alphas)**2)\n",
        "\n",
        "    fig = plt.figure()\n",
        "    ax = fig.add_subplot(projection='3d')\n",
        "    ax.plot_surface(alphas, betas, likelihood, cmap=plt.cm.viridis, vmin=-200, vmax=likelihood.max())\n",
        "    plt.xlabel(r'$\\alpha$')\n",
        "    plt.ylabel(r'$\\beta$')\n",
        "    ax.set_zlabel('$\\ln p(D | \\alpha, \\beta)$')\n",
        "    plt.title('Log likelihood for $k = {}$'.format(k))\n",
        "    plt.savefig('logl_{}.png'.format(k), bbox_inches='tight', dpi=300)\n",
        "    plt.show()"
      ],
      "metadata": {
        "id": "8WTCjxacjqAE"
      },
      "execution_count": null,
      "outputs": []
    },
    {
      "cell_type": "code",
      "source": [
        "from scipy.optimize import fmin\n",
        "\n",
        "def log_likelihood(params, locations):\n",
        "    alpha, beta = params\n",
        "    likelihood = len(locations) * np.log(beta/np.pi)\n",
        "    for loc in locations:\n",
        "        likelihood -= np.log(beta**2 + (loc - alpha)**2)\n",
        "    return -likelihood\n",
        "\n",
        "def plot_maximize_logl(data, alpha_t, beta_t):\n",
        "    alphas, betas = [], []\n",
        "    x = np.arange(len(data))\n",
        "    for k in x:\n",
        "        [alpha, beta] = fmin(log_likelihood, (0, 1), args=(data[:k],))\n",
        "        alphas.append(alpha)\n",
        "        betas.append(beta)\n",
        "\n",
        "    plt.style.use('ggplot')\n",
        "    plt.plot(x, alphas, label=r'$\\alpha$')\n",
        "    plt.plot(x ,betas, label=r'$\\beta$')\n",
        "    plt.plot(x, [alpha_t]*len(data), label=r'$\\alpha_t$')\n",
        "    plt.plot(x, [beta_t]*len(data), label=r'$\\beta_t$')\n",
        "    plt.xlabel('$k$')\n",
        "    plt.ylabel('location (km)')\n",
        "    plt.legend()\n",
        "    plt.savefig('plots/min_logl.png', bbox_inches='tight', dpi=300)\n",
        "    plt.show()\n",
        "\n",
        "    print(alphas[-1], betas[-1])"
      ],
      "metadata": {
        "id": "8doRoaeJj948"
      },
      "execution_count": null,
      "outputs": []
    },
    {
      "cell_type": "code",
      "source": [
        "plot_maximize_logl(locations, alpha_t, beta_t)"
      ],
      "metadata": {
        "id": "oHidBtc2ku9b"
      },
      "execution_count": null,
      "outputs": []
    },
    {
      "cell_type": "code",
      "source": [
        "import pandas as pd\n",
        "my = pd.read_csv(\"/test.csv\")\n",
        "my"
      ],
      "metadata": {
        "id": "PJnE7BTwpBPW"
      },
      "execution_count": null,
      "outputs": []
    },
    {
      "cell_type": "code",
      "source": [
        "import pandas as pd\n",
        "import numpy as np\n",
        "a=pd.read_csv(\"/test.csv\",sep=';')\n",
        "print(a)\n",
        "p=a['hour']\n",
        "m=np.mean(p)\n",
        "sd=np.std(p)#sigma value\n",
        "var=np.var(p)#sigma square value\n",
        "m, sd, var\n"
      ],
      "metadata": {
        "id": "5RULILSuqH1g"
      },
      "execution_count": null,
      "outputs": []
    },
    {
      "cell_type": "code",
      "source": [
        "t=np.array(a['temp'])\n",
        "tm=np.mean(t)\n",
        "tsd=np.std(t)#sigma value/std.dev\n",
        "tvar=np.var(t)#variance\n",
        "x=29\n",
        "l=np.log(np.sqrt(2*3.14))\n",
        "e=np.log(tsd) #std.dev\n",
        "f=(x-tm)**2 #mean\n",
        "g=2*(tvar**2) #variance\n",
        "h=f/g\n",
        "i=-l-e\n",
        "print(i-h)\n"
      ],
      "metadata": {
        "id": "J8S7_QJVqqKr"
      },
      "execution_count": null,
      "outputs": []
    }
  ]
}